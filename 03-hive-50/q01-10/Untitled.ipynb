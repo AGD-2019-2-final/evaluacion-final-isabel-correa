{
 "cells": [
  {
   "cell_type": "code",
   "execution_count": 16,
   "metadata": {},
   "outputs": [
    {
     "name": "stdout",
     "output_type": "stream",
     "text": [
      "The bigdata extension is already loaded. To reload it, use:\n",
      "  %reload_ext bigdata\n"
     ]
    }
   ],
   "source": [
    "%load_ext bigdata\n",
    "%timeout 300\n",
    "%hive_start"
   ]
  },
  {
   "cell_type": "code",
   "execution_count": 17,
   "metadata": {},
   "outputs": [],
   "source": [
    "!hdfs dfs -copyFromLocal data.tsv"
   ]
  },
  {
   "cell_type": "code",
   "execution_count": 18,
   "metadata": {},
   "outputs": [
    {
     "name": "stdout",
     "output_type": "stream",
     "text": [
      "DROP TABLE IF EXISTS T1;\n",
      "OK\n",
      "Time taken: 13.988 seconds\n",
      "CREATE TABLE T1 (L STRING, F STRING, N INT)\n",
      "ROW FORMAT DELIMITED FIELDS TERMINATED BY '\\t'\n",
      "TBLPROPERTIES(\"skip.header.line.count\"=\"0\");\n",
      "OK\n",
      "Time taken: 0.857 seconds\n"
     ]
    }
   ],
   "source": [
    "%%hive\n",
    "DROP TABLE IF EXISTS T1;\n",
    "CREATE TABLE T1 (L STRING, F STRING, N INT)\n",
    "ROW FORMAT DELIMITED FIELDS TERMINATED BY '\\t'\n",
    "TBLPROPERTIES(\"skip.header.line.count\"=\"0\");"
   ]
  },
  {
   "cell_type": "code",
   "execution_count": 19,
   "metadata": {},
   "outputs": [
    {
     "name": "stdout",
     "output_type": "stream",
     "text": [
      "LOAD DATA INPATH 'data.tsv' OVERWRITE INTO TABLE T1;\n",
      "Loading data to table default.t1\n",
      "OK\n",
      "Time taken: 1.508 seconds\n"
     ]
    }
   ],
   "source": [
    "%%hive \n",
    "LOAD DATA INPATH 'data.tsv' OVERWRITE INTO TABLE T1;"
   ]
  },
  {
   "cell_type": "code",
   "execution_count": 21,
   "metadata": {},
   "outputs": [
    {
     "name": "stdout",
     "output_type": "stream",
     "text": [
      "SELECT L, COUNT(L) FROM T1 GROUP BY L;\n",
      "WARNING: Hive-on-MR is deprecated in Hive 2 and may not be available in the future versions. Consider using a different execution engine (i.e. spark, tez) or using Hive 1.X releases.\n",
      "Query ID = root_20200301215417_6dd6cb19-e294-4bcc-bbae-694deabf47f4\n",
      "Total jobs = 1\n",
      "Launching Job 1 out of 1\n",
      "Number of reduce tasks not specified. Estimated from input data size: 1\n",
      "In order to change the average load for a reducer (in bytes):\n",
      "  set hive.exec.reducers.bytes.per.reducer=<number>\n",
      "In order to limit the maximum number of reducers:\n",
      "  set hive.exec.reducers.max=<number>\n",
      "In order to set a constant number of reducers:\n",
      "  set mapreduce.job.reduces=<number>\n",
      "Starting Job = job_1583098367220_0001, Tracking URL = http://1f5cdcdddfcb:8088/proxy/application_1583098367220_0001/\n",
      "Kill Command = /usr/local/hadoop/bin/hadoop job  -kill job_1583098367220_0001\n",
      "Hadoop job information for Stage-1: number of mappers: 1; number of reducers: 1\n",
      "2020-03-01 21:54:31,797 Stage-1 map = 0%,  reduce = 0%\n",
      "2020-03-01 21:54:37,622 Stage-1 map = 100%,  reduce = 0%, Cumulative CPU 1.94 sec\n",
      "2020-03-01 21:54:45,548 Stage-1 map = 100%,  reduce = 100%, Cumulative CPU 4.71 sec\n",
      "MapReduce Total cumulative CPU time: 4 seconds 710 msec\n",
      "Ended Job = job_1583098367220_0001\n",
      "MapReduce Jobs Launched: \n",
      "Stage-Stage-1: Map: 1  Reduce: 1   Cumulative CPU: 4.71 sec   HDFS Read: 8689 HDFS Write: 170 SUCCESS\n",
      "Total MapReduce CPU Time Spent: 4 seconds 710 msec\n",
      "OK\n",
      "A\t12\n",
      "B\t10\n",
      "C\t4\n",
      "D\t1\n",
      "E\t13\n",
      "Time taken: 28.749 seconds, Fetched: 5 row(s)\n"
     ]
    }
   ],
   "source": [
    "%%hive\n",
    "SELECT L, COUNT(L) FROM T1 GROUP BY L;"
   ]
  },
  {
   "cell_type": "code",
   "execution_count": null,
   "metadata": {},
   "outputs": [],
   "source": []
  }
 ],
 "metadata": {
  "kernelspec": {
   "display_name": "Python 3",
   "language": "python",
   "name": "python3"
  },
  "language_info": {
   "codemirror_mode": {
    "name": "ipython",
    "version": 3
   },
   "file_extension": ".py",
   "mimetype": "text/x-python",
   "name": "python",
   "nbconvert_exporter": "python",
   "pygments_lexer": "ipython3",
   "version": "3.6.9"
  }
 },
 "nbformat": 4,
 "nbformat_minor": 4
}
